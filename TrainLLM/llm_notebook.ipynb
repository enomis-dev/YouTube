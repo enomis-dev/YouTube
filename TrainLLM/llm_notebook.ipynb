{
 "cells": [
  {
   "cell_type": "markdown",
   "id": "4ee9f566",
   "metadata": {},
   "source": [
    "# Language model\n",
    "\n",
    "In this notebook you will learn how to fine-tune a large language model for a specific task.\n",
    "We will take advantage of the T5 model and we will fine tune to summarize daily news.\n",
    "\n",
    "T5 is designed to treat all NLP (Natural language processing) tasks as text-to-text tasks. This means tasks like translation, summarization, classification, and question answering are all framed as converting input text to output text."
   ]
  },
  {
   "cell_type": "code",
   "execution_count": 6,
   "id": "c7355848",
   "metadata": {},
   "outputs": [
    {
     "name": "stderr",
     "output_type": "stream",
     "text": [
      "Using the latest cached version of the dataset since cnn_dailymail couldn't be found on the Hugging Face Hub\n",
      "Found the latest cached dataset configuration '3.0.0' at C:\\Users\\degas\\.cache\\huggingface\\datasets\\cnn_dailymail\\3.0.0\\0.0.0\\96df5e686bee6baa90b8bee7c28b81fa3fa6223d (last modified on Wed Oct 16 02:31:38 2024).\n"
     ]
    }
   ],
   "source": [
    "# imports\n",
    "import torch\n",
    "from transformers import T5ForConditionalGeneration, T5Tokenizer\n",
    "from transformers import BartTokenizer, BartForConditionalGeneration\n",
    "from transformers import Trainer, TrainingArguments\n",
    "from transformers import DataCollatorForSeq2Seq\n",
    "from datasets import load_dataset, DatasetDict\n",
    "\n",
    "# Load the CNN/Daily Mail dataset\n",
    "# The CNN / DailyMail Dataset is an English-language dataset containing just over 300k \n",
    "# unique news articles as written by journalists at CNN and the Daily Mail\n",
    "# Ref: https://huggingface.co/datasets/abisee/cnn_dailymail\n",
    "# Load dataset\n",
    "dataset = load_dataset(\"cnn_dailymail\", \"3.0.0\")\n",
    "\n",
    "\n",
    "# Subsampling factor\n",
    "# In order to train large language model like the one we wll use n the notebook we need to use gpu\n",
    "# otherwise training will take too much, since we don't have it here we will train for just one epoch\n",
    "# a very small subsample\n",
    "factor = 500\n",
    "\n",
    "# Function to subsample the dataset by the specified factor\n",
    "def subsample_by_factor(dataset_split, factor):\n",
    "    num_samples = len(dataset_split) // factor\n",
    "    return dataset_split.shuffle(seed=42).select(range(num_samples))\n",
    "\n",
    "# Apply subsampling to each split and keep the DatasetDict structure\n",
    "dataset = DatasetDict({\n",
    "    'train': subsample_by_factor(dataset['train'], factor),\n",
    "    'validation': subsample_by_factor(dataset['validation'], factor),\n",
    "    'test': subsample_by_factor(dataset['test'], factor)\n",
    "})"
   ]
  },
  {
   "cell_type": "code",
   "execution_count": null,
   "id": "57024719",
   "metadata": {},
   "outputs": [],
   "source": [
    "# Load the model and tokenizer\n",
    "model_name = \"t5-small\"  # You can use larger models like \"t5-small\" or \"t5-large\"\n",
    "model = T5ForConditionalGeneration.from_pretrained(model_name)\n",
    "tokenizer = T5Tokenizer.from_pretrained(model_name)"
   ]
  },
  {
   "cell_type": "markdown",
   "id": "e7a710b1",
   "metadata": {},
   "source": [
    "The T5 model uses a standard encoder-decoder transformer architecture.\n",
    "\n",
    "Encoder: Takes an input sequence and processes it to generate a sequence of hidden representations.\n",
    "Decoder: Takes those hidden representations from the encoder and generates the output sequence (which could be a translation, summary, or any other text output depending on the task).\n",
    "\n",
    "The T5 tokenizer is responsible for converting input text into a format that the T5 model can process. Specifically, it transforms text into token IDs (integers) that represent the individual subword units or tokens in the model's vocabulary. Likewise, it can convert the model's output (a sequence of token IDs) back into human-readable text. T5 uses a SentencePiece tokenizer as its base, which is a subword tokenization method."
   ]
  },
  {
   "cell_type": "markdown",
   "id": "de9d019a",
   "metadata": {},
   "source": [
    "# Dataset preparation"
   ]
  },
  {
   "cell_type": "code",
   "execution_count": 7,
   "id": "730fc183",
   "metadata": {},
   "outputs": [
    {
     "data": {
      "text/plain": [
       "device(type='cpu')"
      ]
     },
     "execution_count": 7,
     "metadata": {},
     "output_type": "execute_result"
    }
   ],
   "source": [
    "# Define the device (use 'cuda' if GPU is available)\n",
    "# Note: training on cpu will take long time, just for demonstrative purposes here we will train on cpu\n",
    "# but them we will use a model that we've previously trained on a gpu for more epochs.\n",
    "device = torch.device(\"cuda\" if torch.cuda.is_available() else \"cpu\")\n",
    "device"
   ]
  },
  {
   "cell_type": "code",
   "execution_count": 8,
   "id": "92712a01",
   "metadata": {},
   "outputs": [],
   "source": [
    "# let's have a look to the dataset\n",
    "train_data = dataset['train']"
   ]
  },
  {
   "cell_type": "code",
   "execution_count": 9,
   "id": "c3ec0ec9",
   "metadata": {},
   "outputs": [
    {
     "name": "stdout",
     "output_type": "stream",
     "text": [
      "Article 1:\n",
      "By . Anthony Bond . PUBLISHED: . 07:03 EST, 2 March 2013 . | . UPDATED: . 08:07 EST, 2 March 2013 . Three members of the same family who died in a static caravan from carbon monoxide poisoning would have been unconscious 'within minutes', investigators said today. The bodies of married couple John and Audrey Cook were discovered alongside their daughter, Maureen, at the mobile home they shared on Tremarle Home Park in Camborne, west Cornwall. The inquests have now opened into the deaths last Saturday, with investigators saying the three died along with the family's pet dog, of carbon monoxide poisoning from a cooker. Tragic: The inquests have opened into the deaths of three members of the same family who were found in their static caravan last weekend. John and Audrey Cook are pictured . Awful: The family died following carbon monoxide poisoning at this caravan at the Tremarle Home Park in Camborne, Cornwall . It is also believed there was no working carbon monoxide detector in the static caravan. Cornwall Fire and Rescue Service said this would have resulted in the three being unconscious 'within minutes', . A spokesman for Cornwall coroner Dr Emma Carlyon confirmed the inquests were opened and adjourned yesterday afternoon. They will resume at a later date. Devon and Cornwall Police confirmed on Monday that carbon monoxide poisoning had been established as the cause of death. A police spokesman said the source of the poisoning was 'believed to be from incorrect operation of the gas cooker'. Poisoning: This woman left flowers outside the caravan following the deaths. It has emerged that the trio would have been unconscious 'within minutes' Touching: This tribute was left outside the caravan following news of the deaths . Early readings from experts at the site revealed a potentially lethal level of carbon monoxide present within the caravan at the time it was taken, shortly after the discovery of the bodies. Friends and neighbours have paid tribute to the trio. One . neighbour, Sonya Owen, 53, said: 'It's very distressing. I knew the . daughter, she was living her with her mum and dad. Everybody is really . upset.' Margaret Holmes, 65, who lived near the couple and their . daughter, said: 'They had lived here for around 40 years and they kept . themselves to themselves. 'I just can’t believe this has . happened, it is so sad and I am so shocked, I think we all are, you just . don’t expect this sort of thing to happen on your doorstep. 'Everyone will miss them, we used to chat a lot when we were both in the garden. 'I would just like to send my condolences to their family, I can’t imagine what they’re going through.' Nic Clark, 52, who was good friends with daughter Maureen, added: 'They were a lovely kind family, a great trio. 'Maureen . used to go out and walk her dog, a little Jack Russell, it is so sad . what has happened, I understand the dog went with them. 'They . will be sorely missed and I think everyone is just in shock at the . moment, I would like to send my condolences to the Cook family.'\n",
      "\n",
      "Summary:\n",
      "John and .\n",
      "Audrey Cook were discovered alongside their daughter, Maureen .\n",
      "They were found at Tremarle Home Park in Cornwall .\n",
      "Investigators say the three died of carbon monoxide .\n",
      "poisoning .\n",
      "--------------------------------------------------------------------------------\n",
      "Article 2:\n",
      "UNITED NATIONS (CNN) -- A rare meeting of U.N. Security Council heads of state, led for the first time by a U.S. president, adopted a resolution focused on stopping the spread of nuclear weapons Thursday. President Obama is the first U.S. leader to head a United Nations Security Council meeting. President Obama challenged the gathering -- which included leaders of nuclear powers including Russia, China, Great Britain and France -- to overcome cynicism against the goal of ridding the planet of nuclear arms. \"We harbor no illusions about the difficulty of bringing about a world without nuclear weapons,\" Obama said, adding that Thursday's meeting signaled a significant step forward in cooperative global action. The resolution, which was adopted unanimously, calls for tighter controls on nuclear materials to prevent them from being used for military purposes or stolen. It also encourages enforcement of international treaties and U.N. resolutions regarding nuclear non-proliferation, particularly when nations such as Iran and North Korea are in violation. \"The world must stand together,\" Obama said. \"We must demonstrate that international law is not an empty promise.\" It was the first Security Council summit chaired by a U.S. president, and only the fifth time that Security Council heads of state have met. Obama led the meeting because the United States holds the revolving presidency of the Security Council in September. Both Obama and Russian President Dimitry Medvedev, who spoke later, said the world's two nuclear superpowers were working on reducing their stockpiles in advance of a global nuclear summit scheduled for next year. \"It's obvious that an effective solution ... depends on the constructive engagement of all parties,\" Medvedev said, adding that he expected the Russia-U.S. leadership on the issue to be backed by \"all nuclear powers.\" The measure passed Thursday -- Security Council resolution 1887 -- calls for \"locking down vulnerable nuclear weapons materials in four years\" while minimizing civilian use of weapons-grade uranium. It encourages full compliance with all international treaties and resolutions on nuclear non-proliferation and disarmament, including Security Council resolutions that cite North Korea and Iran for failing to adhere to international commitments. In addition, the resolution supports the peaceful use of nuclear energy, a theme backed by Chinese President Hu Jintao. China seeks to expand its nuclear energy capacity as part of an economic development plan that holds down greenhouse gas emissions that cause climate change. British Prime Minister Gordon Brown also cited the role of nuclear power as a clean energy source that should be part of the solution to global warming affecting every nation. Brown and other leaders spoke of the need to prevent nuclear weapons or the materials to make them from ending up in the hands of terrorist groups. \"The biggest risk the world faces today is of extremists getting hold of nuclear materials,\" said Mohammad ElBaradei, director general of the International Atomic Energy Agency. Libyan leader Moammar Gadhafi, who criticized the Security Council on Wednesday in a rambling speech to the U.N. General Assembly, was absent for the meeting. In Libya's turn to speak at the summit, its special representative to the United Nations called for the IAEA to inspect all nuclear programs, including Israel's, instead of focusing on non-nuclear states. Asked later about Gadhafi's absence, White House spokesman Robert Gibbs said Libya could serve as an example to Iran and North Korea as a nation that gave up its nuclear weapons program and now had rejoined the full international community. \"I think the message that the Libyans had at the Security Council is a message that we hope that the Iranians and the North Koreans will take to heart, and that is giving up a nuclear weapons program and the benefits that it can have for international cooperation and for their reintegration into an international community,\" Gibbs said. Brown earlier called for sanctions against Iran for its efforts to develop a nuclear weapon. On Wednesday, Medvedev signaled that Russia -- which previously has opposed such move -- also could support sanctions against Iran. \"Russia's position is clear: sanctions rarely lead to productive results, but in some cases sanctions are inevitable,\" Medvedev said in a joint appearance with Obama after they met in New York. The statement bolsters U.S.-led efforts for increased international pressure on Iran to adhere to nonproliferation agreements in pursuing the development of nuclear energy. Iran claims its nuclear program is intended for peaceful purposes, but the international community accuses it of continuing to try to develop nuclear weapons capability. The Iranian mission to the United Nations released a statement after the Security Council meeting, saying the country's nuclear activities \"are and always have been, for peaceful purposes, and, therefore, pose no threat whatsoever.\" \"In practicing its legitimate right to develop nuclear energy technology, Iran has always maintained its need for nuclear power as an alternative source of energy to supply its booming population and rapid development. ... Our commitment to nonproliferation remains intact,\" the statement added. The United States and Russia previously have disagreed over Iran, and over possible steps the Security Council may take -- including imposing sanctions -- to push Tehran to comply with U.N. demands concerning its nuclear program. Last week, Obama announced that the United States was dropping plans to base a missile defense shield system in Poland and the Czech Republic, a proposal that had rankled Moscow. He has denied the change was directly linked to Russia's position regarding sanctions on Iran, but said any Russian shift in that direction would be a bonus.\n",
      "\n",
      "Summary:\n",
      "NEW: Libya can serve as example of cooperation, White House spokesman says .\n",
      "Resolution calls for preventing nuclear weapons from being stolen, used by military .\n",
      "Obama, Russian President Dimitry Medvedev working to reduce stockpiles .\n",
      "Venezuelan president Hugo Chavez on \"Larry King Live\" tonight, 9 ET .\n",
      "--------------------------------------------------------------------------------\n",
      "Article 3:\n",
      "Cover-up: Former Archbishop Lord Hope allowed a paedophile priest to escape punishment for sex crimes, a judge's report claims . A former archbishop who failed to act on alleged crimes of a paedophile priest should be jailed, the abuser’s victims have said. Lord Hope, the former Archbishop of York, did not act on 19 occasions when allegations of abuse or inappropriate conduct by the priest were raised with him, a scathing report revealed yesterday. But despite that, Lord Hope remains as an honorary assistant bishop in the Diocese of Bradford. Eli Ward and Bim Atkinson, who were among seven victims of the Very Reverend Robert Waddington, former Dean of Manchester, said it is ‘incredible’ that the man who did nothing to stop the priest has been allowed to keep his post. The report by Judge Sally Cahill QC said Lord Hope failed to act because his ‘concern for the welfare of Robert Waddington seems to have been paramount’. Waddington, who kept an official position in the church until 2005 and died in 2007, targeted young choirboys over several decades. One of the seven victims committed suicide in 1989. Mr Atkinson, 59, who was abused when Waddington was a priest in Australia in the 1960s, sent a picture of disgraced Tory peer Lord Archer, who was jailed for perjury, to the Bishop of North Queensland Bill Ray, adding: ‘I would be pushing for Lord Hope to be treated in the same way as this fellow.’ Mr Ward, now 41, was abused by Waddington between the ages of 11 and 15 as a chorister at Manchester Cathedral. He said: ‘It’s just incredible Lord Hope still has a position. Here is a guy who shoved it all under the carpet. 'He failed and failed to do anything and yet nothing has happened to him. He is still allowed to sit in the House of Lords.’ He added: ‘I’d like to see him punished. My opinion is that he’s committed a crime, perverting the course of justice, and should face the consequences.’ Robert Waddington died in 2007 - he had been accused of abusing seven different victims between 1955 and 1996 . Mr Ward said he left the choir when he was 15 after church officials became concerned – but the priest was allowed to remain as the dean in charge of the cathedral until 1993. Waddington then moved to York Minster, where more children were abused. He stayed in a lesser post there until 2005, despite the allegations made to Lord Hope, according to the report, which was commissioned by current Archbishop of York, the Most Reverend John Sentamu. Mr Ward said: ‘Here we had a church body which had been preaching at us to be morally correct yet, when it came to doing the same thing themselves, they were incapable.’ Mr Ward, now living in the Home Counties with a long-term girlfriend, added that he has put the abuse behind him. But he believes Waddington’s abuse was responsible for the death of another victim, a former chorister from Carlisle named in the report only as Peter, who was abused in the 1970s, developed depression and schizophrenia, and committed suicide in 1989. Lord Hope, 76, has described Judge Cahill’s report as ‘flawed’ but offered a ‘personal and profound apology’. He said: ‘This report makes it clear that not applying the policy is not the same as a cover-up. Hindsight is a wonderful thing.’\n",
      "\n",
      "Summary:\n",
      "Very Reverend Robert Waddington sexually abused choirboys for decades .\n",
      "Inquiry into the abuse has slammed Lord Hope, former Archbishop of York .\n",
      "Report claims he was made aware of misconduct 19 times but did not act .\n",
      "Despite this - he still holds influential post and sits in the House of Lords .\n",
      "--------------------------------------------------------------------------------\n"
     ]
    }
   ],
   "source": [
    "# Print the first few articles and their summaries\n",
    "for i in range(3):  # Adjust the range to print more examples\n",
    "    print(f\"Article {i+1}:\")\n",
    "    print(train_data[i]['article'])\n",
    "    print(\"\\nSummary:\")\n",
    "    print(train_data[i]['highlights'])\n",
    "    print(\"-\" * 80)"
   ]
  },
  {
   "cell_type": "code",
   "execution_count": 10,
   "id": "c07d74bc",
   "metadata": {},
   "outputs": [],
   "source": [
    "# Tokenization function\n",
    "def tokenize_function(examples):\n",
    "    inputs = examples[\"article\"]  # Input texts\n",
    "    outputs = examples[\"highlights\"]  # Target summaries\n",
    "\n",
    "    # Tokenize and truncate inputs\n",
    "    model_inputs = tokenizer(inputs, max_length=1024, truncation=True, padding=\"max_length\")\n",
    "\n",
    "    # Tokenize and truncate outputs (labels)\n",
    "    with tokenizer.as_target_tokenizer():\n",
    "        labels = tokenizer(outputs, max_length=128, truncation=True, padding=\"max_length\")\n",
    "\n",
    "    # Set the labels\n",
    "    model_inputs[\"labels\"] = labels[\"input_ids\"]\n",
    "    return model_inputs"
   ]
  },
  {
   "cell_type": "code",
   "execution_count": 11,
   "id": "cbc7bab3",
   "metadata": {},
   "outputs": [
    {
     "name": "stderr",
     "output_type": "stream",
     "text": [
      "Map:   0%|                                                                                                                           | 0/574 [00:00<?, ? examples/s]C:\\Users\\degas\\Documents\\Github\\YouTube\\TrainLLM\\llm\\lib\\site-packages\\transformers\\tokenization_utils_base.py:4109: UserWarning: `as_target_tokenizer` is deprecated and will be removed in v5 of Transformers. You can tokenize your labels by using the argument `text_target` of the regular `__call__` method (either in the same call as your input texts if you use the same keyword arguments, or in a separate call.\n",
      "  warnings.warn(\n",
      "Map: 100%|█████████████████████████████████████████████████████████████████████████████████████████████████████████████████| 574/574 [00:05<00:00, 99.29 examples/s]\n",
      "Map: 100%|██████████████████████████████████████████████████████████████████████████████████████████████████████████████████| 26/26 [00:00<00:00, 100.94 examples/s]\n",
      "Map: 100%|██████████████████████████████████████████████████████████████████████████████████████████████████████████████████| 22/22 [00:00<00:00, 124.09 examples/s]\n"
     ]
    }
   ],
   "source": [
    "# Tokenize the dataset in a format compatible with our model\n",
    "tokenized_dataset = dataset.map(tokenize_function, batched=True)"
   ]
  },
  {
   "cell_type": "markdown",
   "id": "585accca",
   "metadata": {},
   "source": [
    "# Training"
   ]
  },
  {
   "cell_type": "code",
   "execution_count": 6,
   "id": "c94c7f9a",
   "metadata": {},
   "outputs": [
    {
     "name": "stderr",
     "output_type": "stream",
     "text": [
      "C:\\Users\\degas\\Documents\\Github\\YouTube\\TrainLLM\\llm\\lib\\site-packages\\transformers\\training_args.py:1545: FutureWarning: `evaluation_strategy` is deprecated and will be removed in version 4.46 of 🤗 Transformers. Use `eval_strategy` instead\n",
      "  warnings.warn(\n"
     ]
    }
   ],
   "source": [
    "# Specify training arguments\n",
    "training_args = TrainingArguments(\n",
    "    output_dir=\"./results\",\n",
    "    evaluation_strategy=\"epoch\",\n",
    "    learning_rate=5e-5,\n",
    "    per_device_train_batch_size=2,\n",
    "    per_device_eval_batch_size=2,\n",
    "    num_train_epochs=1,\n",
    "    weight_decay=0.01,\n",
    "    logging_dir='./logs',\n",
    ")"
   ]
  },
  {
   "cell_type": "markdown",
   "id": "abf59d5d",
   "metadata": {},
   "source": [
    "### DataCollatorForSeq2Seq\n",
    "\n",
    "The DataCollatorForSeq2Seq is a utility class provided by Hugging Face's transformers library, designed specifically for preparing data when fine-tuning or evaluating sequence-to-sequence (seq2seq) models, such as T5 or BART.\n",
    "\n",
    "Its main role is to process a batch of input data (e.g., text pairs for translation, summarization, etc.) and prepare it for training or evaluation by handling tasks like padding and attention mask creation. This is crucial when using variable-length sequences in a model that requires fixed-size inputs for batched processing.\n",
    "\n",
    "Key Functions of DataCollatorForSeq2Seq:\n",
    "Padding:\n",
    "\n",
    "In most NLP datasets, sentences have varying lengths. However, models expect all sequences in a batch to have the same length.\n",
    "DataCollatorForSeq2Seq ensures that all input and target sequences are padded to the maximum length in the batch. Padding ensures that each sequence in the batch has the same length, which is necessary for batching inputs together efficiently.\n",
    "Padding can be done dynamically (for each batch) rather than to a fixed length for the entire dataset, improving memory efficiency.\n",
    "Attention Masks:\n",
    "\n",
    "It generates attention masks that tell the model which tokens are actual input tokens and which are padding tokens. The attention mask is typically a binary mask where:\n",
    "1 represents the actual tokens.\n",
    "0 represents padding tokens.\n",
    "This helps the model distinguish between real input data and padding so it can focus on relevant parts of the sequence during training.\n",
    "Label Padding:\n",
    "\n",
    "In sequence-to-sequence tasks, both the input sequence and the output sequence (target or labels) might have different lengths. DataCollatorForSeq2Seq ensures the labels (target sequences) are also padded to the same length in a batch.\n",
    "It pads the labels with -100 instead of 0, which is the default token ID for padding. This tells the loss function (typically Cross Entropy Loss) to ignore the padded tokens when calculating the loss during training.\n",
    "Optional Use with Mixed Precision:\n",
    "\n",
    "DataCollatorForSeq2Seq can be configured to support mixed precision training by properly handling floating-point formats for improved training efficiency.\n",
    "Support for Teacher Forcing:\n",
    "\n",
    "In sequence-to-sequence models, the decoder often uses a technique called teacher forcing, where the ground truth output tokens are fed into the model during training, instead of using the model's own predictions. DataCollatorForSeq2Seq ensures that the target sequences (labels) are appropriately prepared for this during training.\n",
    "Model-Specific Features:\n",
    "\n",
    "For models like T5 or BART, which have an encoder-decoder structure, DataCollatorForSeq2Seq prepares both the input sequence (for the encoder) and the target sequence (for the decoder).\n",
    "When generating text (e.g., during evaluation), it can be configured to work with specific decoding strategies such as beam search or greedy decoding."
   ]
  },
  {
   "cell_type": "code",
   "execution_count": null,
   "id": "eddc288a",
   "metadata": {},
   "outputs": [
    {
     "data": {
      "text/html": [
       "\n",
       "    <div>\n",
       "      \n",
       "      <progress value='1416' max='2870' style='width:300px; height:20px; vertical-align: middle;'></progress>\n",
       "      [1416/2870 10:28:43 < 10:46:30, 0.04 it/s, Epoch 4.93/10]\n",
       "    </div>\n",
       "    <table border=\"1\" class=\"dataframe\">\n",
       "  <thead>\n",
       " <tr style=\"text-align: left;\">\n",
       "      <th>Epoch</th>\n",
       "      <th>Training Loss</th>\n",
       "      <th>Validation Loss</th>\n",
       "    </tr>\n",
       "  </thead>\n",
       "  <tbody>\n",
       "    <tr>\n",
       "      <td>1</td>\n",
       "      <td>No log</td>\n",
       "      <td>1.088164</td>\n",
       "    </tr>\n",
       "    <tr>\n",
       "      <td>2</td>\n",
       "      <td>0.901900</td>\n",
       "      <td>1.206395</td>\n",
       "    </tr>\n",
       "    <tr>\n",
       "      <td>3</td>\n",
       "      <td>0.901900</td>\n",
       "      <td>1.404361</td>\n",
       "    </tr>\n",
       "    <tr>\n",
       "      <td>4</td>\n",
       "      <td>0.279600</td>\n",
       "      <td>1.564271</td>\n",
       "    </tr>\n",
       "  </tbody>\n",
       "</table><p>"
      ],
      "text/plain": [
       "<IPython.core.display.HTML object>"
      ]
     },
     "metadata": {},
     "output_type": "display_data"
    },
    {
     "name": "stderr",
     "output_type": "stream",
     "text": [
      "C:\\Users\\degas\\Documents\\Github\\YouTube\\TrainLLM\\llm\\lib\\site-packages\\transformers\\modeling_utils.py:2618: UserWarning: Moving the following attributes in the config to the generation config: {'max_length': 142, 'min_length': 56, 'early_stopping': True, 'num_beams': 4, 'length_penalty': 2.0, 'no_repeat_ngram_size': 3, 'forced_bos_token_id': 0}. You are seeing this warning because you've set generation parameters in the model config, as opposed to in the generation config.\n",
      "  warnings.warn(\n"
     ]
    }
   ],
   "source": [
    "# Define the data collator\n",
    "data_collator = DataCollatorForSeq2Seq(tokenizer, model=model, padding=True)\n",
    "                                       \n",
    "# Initialize Trainer\n",
    "trainer = Trainer(\n",
    "    model=model,\n",
    "    args=training_args,\n",
    "    train_dataset=tokenized_dataset[\"train\"],\n",
    "    eval_dataset=tokenized_dataset[\"validation\"],\n",
    "    tokenizer=tokenizer,  # Pass the tokenizer to the Trainer\n",
    "    data_collator=data_collator\n",
    ")\n",
    "\n",
    "# Train the model\n",
    "trainer.train()\n",
    "\n",
    "# Save the model\n",
    "model.save_pretrained(\"./fine-tuned-bart-example\")\n",
    "tokenizer.save_pretrained(\"./fine-tuned-bart-example\")"
   ]
  },
  {
   "cell_type": "markdown",
   "id": "51675e80",
   "metadata": {},
   "source": [
    "# Testing\n",
    "\n",
    "In this section we will test the model and see how it has improved in summarizing news"
   ]
  },
  {
   "cell_type": "code",
   "execution_count": 30,
   "id": "af2db10b",
   "metadata": {},
   "outputs": [],
   "source": [
    "# Let's define some news as string and let's observe the different output of the original vs trained model\n",
    "\n",
    "text1 = \"\"\"\n",
    "\n",
    "In a thrilling match last night, Thunderstrike FC secured a dramatic 3-2 win over their fierce rivals, Ironclad United, thanks to a stunning last-minute goal. The tense showdown took place at the packed Horizon Stadium, where fans were treated to an intense, back-and-forth contest.\n",
    "\n",
    "Thunderstrike FC took the lead early in the first half with a header from striker Marco Alvarez in the 12th minute. However, Ironclad United quickly equalized, with midfielder Jordan Blake slotting home a powerful shot from outside the box just before halftime.\n",
    "\n",
    "The second half saw both teams battling for dominance. Ironclad United went ahead in the 65th minute when defender Alan Knight converted a corner kick with a towering header. But Thunderstrike FC fought back, and their persistence paid off when winger Leon Hart leveled the score with a curling free kick in the 78th minute.\n",
    "\n",
    "Just as the match seemed destined for a draw, Thunderstrike’s young sensation, Ethan Morales, delivered the decisive blow in stoppage time, calmly slotting the ball into the bottom corner after a brilliant solo run.\n",
    "\n",
    "The win pushes Thunderstrike FC to the top of the league table, while Ironclad United faces a tough battle to recover in the coming weeks.\n",
    "\n",
    "---\n",
    "\n",
    "This fictional news story portrays an exciting football match without using real team or player names.\n",
    "\"\"\""
   ]
  },
  {
   "cell_type": "code",
   "execution_count": 31,
   "id": "e5f49caf",
   "metadata": {},
   "outputs": [
    {
     "name": "stdout",
     "output_type": "stream",
     "text": [
      "\n",
      "Powerful Storm Slams California, Bringing Heavy Rain and Flooding Concerns\n",
      "\n",
      "A powerful storm has swept across California, unleashing torrential rains and strong winds, leaving thousands without power and prompting evacuation orders in several areas. Meteorologists have warned that the storm, which developed rapidly off the Pacific coast, could be one of the most intense in recent years.\n",
      "\n",
      "The storm hit Northern California early Friday morning, with rainfall totals reaching over 4 inches in some regions. Coastal towns have been particularly hard-hit, with waves crashing over sea walls and flooding streets. Wind gusts exceeding 60 mph have downed trees and power lines, leaving many residents in the dark.\n",
      "\n",
      "Inland areas are also experiencing severe flooding, especially in low-lying regions and areas near rivers. Emergency responders are on high alert as rising waters threaten homes and businesses. Evacuation orders have been issued for parts of Sonoma County, where floodwaters are nearing critical levels.\n",
      "\n",
      "“We’re asking everyone to stay indoors and avoid any unnecessary travel,” said a state emergency spokesperson. “Our teams are working around the clock to restore power and assist those in need.”\n",
      "\n",
      "Forecasters predict the storm will continue into the weekend, bringing additional rain and the potential for mudslides in areas recently affected by wildfires.\n",
      "\n"
     ]
    }
   ],
   "source": [
    "# Example text to summarize\n",
    "text2 = \"\"\"\n",
    "Powerful Storm Slams California, Bringing Heavy Rain and Flooding Concerns\n",
    "\n",
    "A powerful storm has swept across California, unleashing torrential rains and strong winds, leaving thousands without power and prompting evacuation orders in several areas. Meteorologists have warned that the storm, which developed rapidly off the Pacific coast, could be one of the most intense in recent years.\n",
    "\n",
    "The storm hit Northern California early Friday morning, with rainfall totals reaching over 4 inches in some regions. Coastal towns have been particularly hard-hit, with waves crashing over sea walls and flooding streets. Wind gusts exceeding 60 mph have downed trees and power lines, leaving many residents in the dark.\n",
    "\n",
    "Inland areas are also experiencing severe flooding, especially in low-lying regions and areas near rivers. Emergency responders are on high alert as rising waters threaten homes and businesses. Evacuation orders have been issued for parts of Sonoma County, where floodwaters are nearing critical levels.\n",
    "\n",
    "“We’re asking everyone to stay indoors and avoid any unnecessary travel,” said a state emergency spokesperson. “Our teams are working around the clock to restore power and assist those in need.”\n",
    "\n",
    "Forecasters predict the storm will continue into the weekend, bringing additional rain and the potential for mudslides in areas recently affected by wildfires.\n",
    "\"\"\"\n",
    "\n",
    "# Print the string\n",
    "print(text2)"
   ]
  },
  {
   "cell_type": "markdown",
   "id": "e84f2b95",
   "metadata": {},
   "source": [
    "### Original model"
   ]
  },
  {
   "cell_type": "code",
   "execution_count": 32,
   "id": "e5b567f4",
   "metadata": {},
   "outputs": [],
   "source": [
    "# Load the model and tokenizer\n",
    "model_name = \"t5-small\"  # You can use larger models like \"t5-small\" or \"t5-large\"\n",
    "model = T5ForConditionalGeneration.from_pretrained(model_name)\n",
    "tokenizer = T5Tokenizer.from_pretrained(model_name)"
   ]
  },
  {
   "cell_type": "code",
   "execution_count": 33,
   "id": "aef735b1",
   "metadata": {},
   "outputs": [],
   "source": [
    "# Tokenize and summarize\n",
    "inputs = tokenizer(text1, return_tensors=\"pt\", max_length=1024, truncation=True)"
   ]
  },
  {
   "cell_type": "code",
   "execution_count": 34,
   "id": "a7282aec",
   "metadata": {},
   "outputs": [
    {
     "name": "stdout",
     "output_type": "stream",
     "text": [
      "in the 78th minute. Thunderstrike FC secured a dramatic 3-2 win over their fierce rivals, Ironclad United. the win pushes Thunderstrike FC to the top of the league table, while Ironclad United faces a tough battle to recover.\n"
     ]
    }
   ],
   "source": [
    "summary_ids = model.generate(inputs[\"input_ids\"], max_length=150, num_beams=4, early_stopping=True)\n",
    "\n",
    "# Decode and print the summary\n",
    "summary = tokenizer.decode(summary_ids[0], skip_special_tokens=True)\n",
    "print(summary)"
   ]
  },
  {
   "cell_type": "code",
   "execution_count": 35,
   "id": "b32f74d7",
   "metadata": {},
   "outputs": [
    {
     "name": "stdout",
     "output_type": "stream",
     "text": [
      ", with rainfall totals reaching over 4 inches in some regions. Coastal towns have been particularly hard-hit, with rain totals reaching over 4 inches in some regions. Coastal towns have been particularly hard-hit, with waves crashing over sea walls and flooding streets.\n"
     ]
    }
   ],
   "source": [
    "# Tokenize and summarize\n",
    "inputs = tokenizer(text2, return_tensors=\"pt\", max_length=1024, truncation=True)\n",
    "\n",
    "summary_ids = model.generate(inputs[\"input_ids\"], max_length=150, num_beams=4, early_stopping=True)\n",
    "\n",
    "# Decode and print the summary\n",
    "summary = tokenizer.decode(summary_ids[0], skip_special_tokens=True)\n",
    "print(summary)"
   ]
  },
  {
   "cell_type": "markdown",
   "id": "2492e6d3",
   "metadata": {},
   "source": [
    "### Trained model"
   ]
  },
  {
   "cell_type": "code",
   "execution_count": 36,
   "id": "5dfb3fb7",
   "metadata": {},
   "outputs": [],
   "source": [
    "# Load the fine-tuned model and tokenizer\n",
    "model = T5ForConditionalGeneration.from_pretrained(\"./fine_tuned_model\")\n",
    "tokenizer = T5Tokenizer.from_pretrained(\"./fine_tuned_model\")"
   ]
  },
  {
   "cell_type": "code",
   "execution_count": 37,
   "id": "4a274704",
   "metadata": {},
   "outputs": [
    {
     "name": "stdout",
     "output_type": "stream",
     "text": [
      "Thunderstrike FC secured a dramatic 3-2 win over their fierce rivals, Ironclad United. The win pushes Thunderstrike FC to the top of the league table.\n"
     ]
    }
   ],
   "source": [
    "# Tokenize and summarize\n",
    "inputs = tokenizer(text1, return_tensors=\"pt\", max_length=1024, truncation=True)\n",
    "\n",
    "summary_ids = model.generate(inputs[\"input_ids\"], max_length=150, num_beams=4, early_stopping=True)\n",
    "\n",
    "# Decode and print the summary\n",
    "summary = tokenizer.decode(summary_ids[0], skip_special_tokens=True)\n",
    "print(summary)"
   ]
  },
  {
   "cell_type": "code",
   "execution_count": 38,
   "id": "cb30d4cf",
   "metadata": {},
   "outputs": [
    {
     "name": "stdout",
     "output_type": "stream",
     "text": [
      "Meteorologists warn the storm could be one of the most intense in recent years. The storm hit Northern California early Friday morning, with rainfall totals reaching over 4 inches in some regions. Inland areas are also experiencing severe flooding, especially in low-lying regions and areas near rivers. Emergency responders are on high alert as rising waters threaten homes and businesses.\n"
     ]
    }
   ],
   "source": [
    "# Tokenize and summarize\n",
    "inputs = tokenizer(text2, return_tensors=\"pt\", max_length=1024, truncation=True)\n",
    "\n",
    "summary_ids = model.generate(inputs[\"input_ids\"], max_length=150, num_beams=4, early_stopping=True)\n",
    "\n",
    "# Decode and print the summary\n",
    "summary = tokenizer.decode(summary_ids[0], skip_special_tokens=True)\n",
    "print(summary)"
   ]
  },
  {
   "cell_type": "markdown",
   "id": "e5ef1c1e",
   "metadata": {},
   "source": [
    "The model has greatly improved, it has learned to create finite sentences and report main concepts of the articles."
   ]
  },
  {
   "cell_type": "markdown",
   "id": "8a07be1b",
   "metadata": {},
   "source": [
    "# Summarizing News from the web\n",
    "\n",
    "In this section we will lean how to use the llm model to summarize news from the web"
   ]
  },
  {
   "cell_type": "code",
   "execution_count": 39,
   "id": "27952830",
   "metadata": {
    "scrolled": false
   },
   "outputs": [
    {
     "name": "stdout",
     "output_type": "stream",
     "text": [
      "Fetching news from: https://www.nature.com/articles/d41586-024-03327-z\n",
      "---------------------------------\n",
      "Article:\n",
      "Einstein’s Tutor\n",
      "\n",
      "Lee Phillips PublicAffairs (2024)\n",
      "\n",
      "Major studies of Albert Einstein’s work contain minimal, if any, reference to the role of German mathematician Emmy Noether. Yet, she was crucial in resolving a paradox in general relativity through her theorem connecting symmetry and energy-conservation laws, published in 1918. When Noether died in 1935, Einstein called her “the most significant creative mathematical genius thus far produced since the higher education of women began”. In this book about her for the general reader, physicist Lee Phillips brings Noether alive.\n",
      "\n",
      "Silk Roads\n",
      "\n",
      "Sue Brunning et al . British Museum Press (2024)\n",
      "\n",
      "The first object discussed in this lavishly illustrated British Museum exhibition book reveals the far-ranging, mysterious nature of the Silk Roads. It is a Buddha figure, excavated in Sweden from a site dated to around ad 800, and probably created in Pakistan two centuries earlier. No one knows how it reached Europe or its significance there. As the authors — three of them exhibition curators — admit, it is “impossible to capture the full extent and complexity of the Silk Roads in a single publication”— even by limiting their time frame to only five centuries.\n",
      "\n",
      "The Last Human Job\n",
      "\n",
      "Allison Pugh Princeton Univ. Press (2024)\n",
      "\n",
      "A century ago, notes sociologist Allison Pugh, people doing their food shopping gave lists to shop workers, who retrieved the goods then haggled over the prices. The process epitomized what she terms connective labour, which involves “an emotional understanding with another person to create the outcomes we think are important”. A healthy society requires more connective labour, not more automation, she argues in her engaging study, which observes and interviews physicians, teachers, chaplains, hairdressers and more.\n",
      "\n",
      "Becoming Earth\n",
      "\n",
      "Ferris Jabr Random House (2024)\n",
      "\n",
      "According to science journalist Ferris Jabr, his intriguing book about Earth — divided into three sections on rock, water and air — is “an exploration of how life has transformed the planet, a meditation on what it means to say that Earth itself is alive”. If this definition sounds similar to the Gaia hypothesis by chemist James Lovelock and biologist Lynn Margulis, that is welcome to Jabr, who admires Lovelock as a thinker and personality. He also recognizes how the 1970s hypothesis, which evolved over decades, still divides scientists.\n",
      "\n",
      "Into the Clear Blue Sky\n",
      "\n",
      "Rob Jackson Scribner (2024)\n",
      "\n",
      "Earth scientist Rob Jackson chairs the Global Carbon Project, which works to reduce greenhouse-gas emissions and improve air and water quality. His book begins hopefully on a visit to Rome, where Vatican Museums conservators discuss the “breathtaking” restoration of the blue sky in Michelangelo’s fresco The Last Judgement , damaged by centuries of grime and visitors’ exhalations. But he ends on a deeply pessimistic note on a research boat in Amazonia, which is suffering from both floods and fires: the “Hellocene”.\n",
      "\n",
      "---------------------------------\n",
      "Summary:\n",
      "Albert Einstein’s Tutor Lee Phillips PublicAffairs (2024) brings Emmy Noether alive in this lavishly illustrated British Museum exhibition book. It is a Buddha figure, excavated in Sweden from a site dated to around ad 800. It is probably created in Pakistan two centuries earlier.\n",
      "\n",
      "----------------------------------------------------------------------------------------------\n",
      "Fetching news from: http://fox13now.com/2013/12/30/new-year-new-laws-obamacare-pot-guns-and-drones/\n",
      "---------------------------------\n",
      "Article:\n",
      "By Leigh Ann Caldwell\n",
      "\n",
      "WASHINGTON (CNN) — Not everyone subscribes to a New Year’s resolution, but Americans will be required to follow new laws in 2014.\n",
      "\n",
      "Some 40,000 measures taking effect range from sweeping, national mandates under Obamacare to marijuana legalization in Colorado, drone prohibition in Illinois and transgender protections in California.\n",
      "\n",
      "Although many new laws are controversial, they made it through legislatures, public referendum or city councils and represent the shifting composition of American beliefs.\n",
      "\n",
      "Federal: Health care, of course, and vending machines\n",
      "\n",
      "The biggest and most politically charged change comes at the federal level with the imposition of a new fee for those adults without health insurance.\n",
      "\n",
      "For 2014, the penalty is either $95 per adult or 1% of family income, whichever results in a larger fine.\n",
      "\n",
      "The Obamacare, of Affordable Care Act, mandate also requires that insurers cover immunizations and some preventive care.\n",
      "\n",
      "Additionally, millions of poor Americans will receive Medicaid benefits starting January 1.\n",
      "\n",
      "Thousands of companies will have to provide calorie counts for products sold in vending machines.\n",
      "\n",
      "Local: Guns, family leave and shark fins\n",
      "\n",
      "Connecticut: While no national legislation was approved to tighten gun laws a year after the Newtown school shooting, Connecticut is implementing a final round of changes to its books: All assault weapons and large capacity magazines must be registered.\n",
      "\n",
      "Oregon: Family leave in Oregon has been expanded to allow eligible employees two weeks of paid leave to handle the death of a family member.\n",
      "\n",
      "California: Homeless youth are eligible to receive food stamps. The previous law had a minimum wage requirement.\n",
      "\n",
      "Delaware: Delaware is the latest in a growing number of states where residents can no longer possess, sell or distribute shark fins, which is considered a delicacy in some East Asian cuisine.\n",
      "\n",
      "Illinois and drones\n",
      "\n",
      "Illinois: passed two laws limiting the use of drones. One prohibits them from interfering with hunters and fisherman. The measure passed after the group People for the Ethical Treatment of Animals said it would use drones to monitor hunters. PETA said it aims through its “air angels” effort to protect against “cruel” and “illegal” hunting.\n",
      "\n",
      "Also in Illinois, another law prohibits the use of drones for law enforcement without a warrant.\n",
      "\n",
      "Gender and voting identity\n",
      "\n",
      "California: Students can use bathrooms and join school athletic teams “consistent with their gender identity,” even if it’s different than their gender at birth.\n",
      "\n",
      "Arkansas: The state becomes the latest state requiring voters show a picture ID at the voting booth.\n",
      "\n",
      "Minimum wage and former felon employment\n",
      "\n",
      "Workers in 13 states and four cities will see increases to the minimum wage.\n",
      "\n",
      "While most amount to less than 15 cents per hour, workers in places like New Jersey, and Connecticut.\n",
      "\n",
      "New Jersey residents voted to raise the state’s minimum wage by $1 to $8.25 per hour. And in Connecticut, lawmakers voted to raise it between 25 and 75 cents to $8.70. The wage would go up to $8 in Rhode Island and New York.\n",
      "\n",
      "California is also raising its minimum wage to $9 per hour, but workers must wait until July to see the addition.\n",
      "\n",
      "Rhode Island: It is the latest state to prohibit employers from requiring job applicants to signify if they have a criminal record on a job application.\n",
      "\n",
      "Social media and pot\n",
      "\n",
      "Oregon: Employers and schools can’t require a job or student applicant to provide passwords to social media accounts.\n",
      "\n",
      "Colorado: Marijuana becomes legal in the state for buyers over 21 at a licensed retail dispensary.\n",
      "\n",
      "(Sourcing: much of this list was obtained from the National Conference of State Legislatures).\n",
      "\n",
      "---------------------------------\n",
      "Summary:\n",
      "Some 40,000 measures taking effect range from sweeping, national mandates under Obamacare to marijuana legalization in Colorado, drone prohibition in Illinois and transgender protections in California. For 2014, the penalty is either $95 per adult or 1% of family income, whichever results in a larger fine.\n",
      "\n",
      "----------------------------------------------------------------------------------------------\n"
     ]
    }
   ],
   "source": [
    "# fetching news from some urls and ask the model to summarize\n",
    "from newspaper import Article\n",
    "import requests\n",
    "\n",
    "# Load the fine-tuned model and tokenizer\n",
    "model = T5ForConditionalGeneration.from_pretrained(\"./fine_tuned_model\")\n",
    "tokenizer = T5Tokenizer.from_pretrained(\"./fine_tuned_model\")\n",
    "\n",
    "def fetch_news(url):\n",
    "    \"\"\"Fetches a news article from a given URL.\"\"\"\n",
    "    article = Article(url)\n",
    "    article.download()\n",
    "    article.parse()\n",
    "    return article.text\n",
    "\n",
    "def summarize_article(article_text):\n",
    "    \"\"\"Summarizes the given article text using the fine-tuned model.\"\"\"\n",
    "    inputs = tokenizer(article_text, return_tensors=\"pt\", max_length=1024, truncation=True)\n",
    "    summary_ids = model.generate(inputs[\"input_ids\"], max_length=150, num_beams=4, early_stopping=True)\n",
    "    summary = tokenizer.decode(summary_ids[0], skip_special_tokens=True)\n",
    "    return summary\n",
    "\n",
    "# List of news URLs to summarize (you can modify this list)\n",
    "news_urls = [\n",
    "    \"https://www.nature.com/articles/d41586-024-03327-z\",\n",
    "    \"http://fox13now.com/2013/12/30/new-year-new-laws-obamacare-pot-guns-and-drones/\",\n",
    "    #\"https://www.cnn.com/2024/10/06/world/your-news-article-url/index.html\",  # Example URL\n",
    "    # Add more news article URLs as needed\n",
    "]\n",
    "\n",
    "# Loop through URLs, fetch and summarize each article\n",
    "for url in news_urls:\n",
    "    try:\n",
    "        print(f\"Fetching news from: {url}\")\n",
    "        print(\"---------------------------------\")\n",
    "        article_text = fetch_news(url)\n",
    "        print(f\"Article:\\n{article_text}\\n\")\n",
    "        print(\"---------------------------------\")\n",
    "        summary = summarize_article(article_text)\n",
    "        print(f\"Summary:\\n{summary}\\n\")\n",
    "        print(\"----------------------------------------------------------------------------------------------\")\n",
    "    except Exception as e:\n",
    "        print(f\"Error processing {url}: {e}\")"
   ]
  },
  {
   "cell_type": "markdown",
   "id": "0b0694de",
   "metadata": {},
   "source": [
    "In the previous section we have passed some urls containing news to the model to summarize them.\n",
    "In the next section we will do a live query by combaning known libraries as Beautiful Soup that is a library that makes it easy to scrape information from web pages and GoogleNews that allows to search for google news about a specific subject."
   ]
  },
  {
   "cell_type": "code",
   "execution_count": 26,
   "id": "720af85d",
   "metadata": {
    "scrolled": false
   },
   "outputs": [
    {
     "name": "stdout",
     "output_type": "stream",
     "text": [
      "1. LTIMindtree win its largest deal in history: We are now ..., says COO\n",
      "Source: Times of India\n",
      "Published: 2 hours ago\n",
      "Link: https://timesofindia.indiatimes.com/technology/tech-news/ltimindtree-win-its-largest-deal-in-history-we-are-now-says-coo/articleshow/114404534.cms&ved=2ahUKEwiPwJ6-7Z2JAxWqS2wGHS9NBDYQxfQBegQIARAC&usg=AOvVaw2S5XFKpYRxCoxcu8b5GUyt\n",
      "\n",
      "2. Generative AI Takes Center Stage in 2024 U.S. Presidential Debates\n",
      "Source: TechAnnouncer\n",
      "Published: 3 hours ago\n",
      "Link: https://techannouncer.com/generative-ai-takes-center-stage-in-2024-u-s-presidential-debates/&ved=2ahUKEwiPwJ6-7Z2JAxWqS2wGHS9NBDYQxfQBegQICRAC&usg=AOvVaw2x7s9WseLRB-ijgj1HPycY\n",
      "\n",
      "3. Can AI sandbag safety checks to sabotage users? Yes, but not very well — for now\n",
      "Source: TechCrunch\n",
      "Published: 4 hours ago\n",
      "Link: https://techcrunch.com/2024/10/20/can-ai-sandbag-safety-checks-to-sabotage-users-yes-but-not-very-well-for-now/&ved=2ahUKEwiPwJ6-7Z2JAxWqS2wGHS9NBDYQxfQBegQIBRAC&usg=AOvVaw1GKO6MkTRUlTOhADmOV5fi\n",
      "\n",
      "4. Gusto’s head of technology says hiring an army of specialists is the wrong approach to AI\n",
      "Source: TechCrunch\n",
      "Published: 5 hours ago\n",
      "Link: https://techcrunch.com/2024/10/20/gustos-head-of-technology-says-hiring-an-army-of-specialists-is-the-wrong-approach-to-ai/&ved=2ahUKEwiPwJ6-7Z2JAxWqS2wGHS9NBDYQxfQBegQIAxAC&usg=AOvVaw29G_9bZw9hayqgktci5F9D\n",
      "\n",
      "5. Investments in generative AI startups topped $3.9B in Q3 2024\n",
      "Source: TechCrunch\n",
      "Published: 7 hours ago\n",
      "Link: https://techcrunch.com/2024/10/20/investments-in-generative-ai-startups-topped-3-9b-in-q3-2024/&ved=2ahUKEwiPwJ6-7Z2JAxWqS2wGHS9NBDYQxfQBegQIBBAC&usg=AOvVaw2ovA-BVzMCbVAVE8Xw2Omn\n",
      "\n",
      "6. Parents Sued School: Student Faces Discipline for Using AI Tools\n",
      "Source: TechStory\n",
      "Published: 7 hours ago\n",
      "Link: https://techstory.in/parents-sued-school-student-faces-discipline-for-using-ai-tools/&ved=2ahUKEwiPwJ6-7Z2JAxWqS2wGHS9NBDYQxfQBegQIBhAC&usg=AOvVaw26cX5T3ZhEEsv_-eJ_6UCh\n",
      "\n",
      "7. How AI will transform wealth management\n",
      "Source: Yahoo Finance\n",
      "Published: 7 hours ago\n",
      "Link: https://finance.yahoo.com/news/how-ai-will-transform-wealth-management-140346830.html&ved=2ahUKEwiPwJ6-7Z2JAxWqS2wGHS9NBDYQxfQBegQIBxAC&usg=AOvVaw1TXbwXspvYd0wBzBmo4w7C\n",
      "\n",
      "8. AI in Retail: Levelling Up Indian Shopping Game Forever\n",
      "Source: BizzBuzz\n",
      "Published: 8 hours ago\n",
      "Link: https://www.bizzbuzz.news/technology/ai/ai-in-retail-levelling-up-indian-shopping-game-forever-1339843&ved=2ahUKEwiPwJ6-7Z2JAxWqS2wGHS9NBDYQxfQBegQICBAC&usg=AOvVaw2cda4tIiWC4WEjqu36QMlm\n",
      "\n",
      "9. AI Power Demand Skyrockets, Nvidia CEO Lauds OpenAI, And Tesla's Optimus Robots Assisted By Humans: This Week In AI\n",
      "Source: Benzinga\n",
      "Published: 8 hours ago\n",
      "Link: https://www.benzinga.com/news/24/10/41418188/ai-power-demand-skyrockets-nvidia-ceo-lauds-openai-and-teslas-optimus-robots-assisted-by-humans-this&ved=2ahUKEwiPwJ6-7Z2JAxWqS2wGHS9NBDYQxfQBegQIABAC&usg=AOvVaw0KRE_ed5Z8Gmz3r0xlgESM\n",
      "\n",
      "10. How to say no to our AI overlords\n",
      "Source: The Seattle Times\n",
      "Published: 8 hours ago\n",
      "Link: https://www.seattletimes.com/business/technology/how-to-say-no-to-our-ai-overlords/&ved=2ahUKEwiPwJ6-7Z2JAxWqS2wGHS9NBDYQxfQBegQIAhAC&usg=AOvVaw0E8aFjquHK45GGFH3TMHgx\n",
      "\n",
      "11. LTIMindtree win its largest deal in history: We are now ..., says COO\n",
      "Source: Times of India\n",
      "Published: 2 hours ago\n",
      "Link: https://timesofindia.indiatimes.com/technology/tech-news/ltimindtree-win-its-largest-deal-in-history-we-are-now-says-coo/articleshow/114404534.cms&ved=2ahUKEwirs9PB7Z2JAxWwbGwGHRJECggQxfQBegQIAhAC&usg=AOvVaw3S_3AQnH9xqxQHWlycKLlt\n",
      "\n",
      "12. Generative AI Takes Center Stage in 2024 U.S. Presidential Debates\n",
      "Source: TechAnnouncer\n",
      "Published: 3 hours ago\n",
      "Link: https://techannouncer.com/generative-ai-takes-center-stage-in-2024-u-s-presidential-debates/&ved=2ahUKEwirs9PB7Z2JAxWwbGwGHRJECggQxfQBegQICRAC&usg=AOvVaw0oB8Bs0Z4RG2DPVSm6D8w4\n",
      "\n",
      "13. Can AI sandbag safety checks to sabotage users? Yes, but not very well — for now\n",
      "Source: TechCrunch\n",
      "Published: 4 hours ago\n",
      "Link: https://techcrunch.com/2024/10/20/can-ai-sandbag-safety-checks-to-sabotage-users-yes-but-not-very-well-for-now/&ved=2ahUKEwirs9PB7Z2JAxWwbGwGHRJECggQxfQBegQIBhAC&usg=AOvVaw0cFhaVmearoWqh2TcHakvn\n",
      "\n",
      "14. Gusto’s head of technology says hiring an army of specialists is the wrong approach to AI\n",
      "Source: TechCrunch\n",
      "Published: 5 hours ago\n",
      "Link: https://techcrunch.com/2024/10/20/gustos-head-of-technology-says-hiring-an-army-of-specialists-is-the-wrong-approach-to-ai/&ved=2ahUKEwirs9PB7Z2JAxWwbGwGHRJECggQxfQBegQIBBAC&usg=AOvVaw0Pbe8nOODI4y6XMJhf9UMP\n",
      "\n",
      "15. Investments in generative AI startups topped $3.9B in Q3 2024\n",
      "Source: TechCrunch\n",
      "Published: 7 hours ago\n",
      "Link: https://techcrunch.com/2024/10/20/investments-in-generative-ai-startups-topped-3-9b-in-q3-2024/&ved=2ahUKEwirs9PB7Z2JAxWwbGwGHRJECggQxfQBegQIBxAC&usg=AOvVaw22k2mJVFD9IkvjKxnmlI3W\n",
      "\n",
      "16. Parents Sued School: Student Faces Discipline for Using AI Tools\n",
      "Source: TechStory\n",
      "Published: 7 hours ago\n",
      "Link: https://techstory.in/parents-sued-school-student-faces-discipline-for-using-ai-tools/&ved=2ahUKEwirs9PB7Z2JAxWwbGwGHRJECggQxfQBegQIARAC&usg=AOvVaw1ExhofZPui1pJE26lSNlze\n",
      "\n",
      "17. How AI will transform wealth management\n",
      "Source: Yahoo Finance\n",
      "Published: 7 hours ago\n",
      "Link: https://finance.yahoo.com/news/how-ai-will-transform-wealth-management-140346830.html&ved=2ahUKEwirs9PB7Z2JAxWwbGwGHRJECggQxfQBegQICBAC&usg=AOvVaw23N4_L3v_ejYeNBiUmktY1\n",
      "\n",
      "18. AI in Retail: Levelling Up Indian Shopping Game Forever\n",
      "Source: BizzBuzz\n",
      "Published: 8 hours ago\n",
      "Link: https://www.bizzbuzz.news/technology/ai/ai-in-retail-levelling-up-indian-shopping-game-forever-1339843&ved=2ahUKEwirs9PB7Z2JAxWwbGwGHRJECggQxfQBegQIBRAC&usg=AOvVaw3KyLyumZu5vGDhhbA0PXmG\n",
      "\n",
      "19. AI Power Demand Skyrockets, Nvidia CEO Lauds OpenAI, And Tesla's Optimus Robots Assisted By Humans: This Week In AI\n",
      "Source: Benzinga\n",
      "Published: 8 hours ago\n",
      "Link: https://www.benzinga.com/news/24/10/41418188/ai-power-demand-skyrockets-nvidia-ceo-lauds-openai-and-teslas-optimus-robots-assisted-by-humans-this&ved=2ahUKEwirs9PB7Z2JAxWwbGwGHRJECggQxfQBegQIAxAC&usg=AOvVaw2nTYhymwc-1jHczuERdp1L\n",
      "\n",
      "20. How to say no to our AI overlords\n",
      "Source: The Seattle Times\n",
      "Published: 8 hours ago\n",
      "Link: https://www.seattletimes.com/business/technology/how-to-say-no-to-our-ai-overlords/&ved=2ahUKEwirs9PB7Z2JAxWwbGwGHRJECggQxfQBegQIABAC&usg=AOvVaw0_l4bl6xqdd0BmR8g9VbJt\n",
      "\n"
     ]
    }
   ],
   "source": [
    "import requests\n",
    "from bs4 import BeautifulSoup\n",
    "from GoogleNews import GoogleNews\n",
    "from urllib.parse import urlparse, parse_qs\n",
    "\n",
    "# Function to clean the URL\n",
    "def clean_url2(url):\n",
    "    parsed_url = urlparse(url)\n",
    "    cleaned_url = parsed_url.scheme + \"://\" + parsed_url.netloc + parsed_url.path\n",
    "    return cleaned_url\n",
    "\n",
    "def clean_url(url):\n",
    "    # First, extract the part of the URL that contains the actual article link\n",
    "    parsed_url = urlparse(url)\n",
    "    query_params = parse_qs(parsed_url.query)\n",
    "\n",
    "    # Check if the URL contains a 'url' or 'q' query parameter (common in Google News links)\n",
    "    if 'url' in query_params:\n",
    "        cleaned_url = query_params['url'][0]\n",
    "    elif 'q' in query_params:\n",
    "        cleaned_url = query_params['q'][0]\n",
    "    else:\n",
    "        # If no such query parameters, use the original URL\n",
    "        cleaned_url = url\n",
    "\n",
    "    # Now, truncate the URL at the first '&' symbol, if present\n",
    "    cleaned_url = cleaned_url.split('&')[0]  # Truncate at the first '&'\n",
    "\n",
    "    return cleaned_url\n",
    "\n",
    "# Function to search Google News\n",
    "def search_google_news(query, language='en', pages=1):\n",
    "    googlenews = GoogleNews(lang=language)\n",
    "    googlenews.search(query)\n",
    "\n",
    "    all_articles = []\n",
    "    for page in range(1, pages + 1):\n",
    "        googlenews.getpage(page)\n",
    "        all_articles.extend(googlenews.result())\n",
    "\n",
    "    return all_articles\n",
    "\n",
    "def get_link_text(url):\n",
    "    return clean_url(url)\n",
    "    \n",
    "# Function to fetch article text from a URL\n",
    "def get_article_text(url):\n",
    "    url = get_link_text(url)  # Clean the URL before making the request\n",
    "    try:\n",
    "        # Send a GET request to the URL\n",
    "        response = requests.get(url)\n",
    "        response.raise_for_status()  # Check for HTTP errors\n",
    "\n",
    "        # Parse the page content with BeautifulSoup\n",
    "        soup = BeautifulSoup(response.content, 'html.parser')\n",
    "\n",
    "        # Extract the main content (this can vary by website, so we target common tags)\n",
    "        paragraphs = soup.find_all('p')  # Get all <p> tags, common for article text\n",
    "        article_text = ' '.join([para.get_text() for para in paragraphs])\n",
    "\n",
    "        return article_text\n",
    "    except Exception as e:\n",
    "        print(f\"Failed to fetch the article text: {e}\")\n",
    "        return None\n",
    "\n",
    "# Example usage\n",
    "query = \"AI technology\"\n",
    "news_articles = search_google_news(query)\n",
    "\n",
    "urls = []\n",
    "# Display results\n",
    "for idx, article in enumerate(news_articles, 1):\n",
    "    print(f\"{idx}. {article['title']}\")\n",
    "    print(f\"Source: {article['media']}\")\n",
    "    print(f\"Published: {article['date']}\")\n",
    "    print(f\"Link: {article['link']}\\n\")\n",
    "    urls.append(get_link_text(article['link']))\n",
    "    # print(f\"Text: {get_article_text(article['link'])}\\n\")"
   ]
  },
  {
   "cell_type": "code",
   "execution_count": 27,
   "id": "2594e0e3",
   "metadata": {},
   "outputs": [
    {
     "name": "stdout",
     "output_type": "stream",
     "text": [
      "Fetching news from: https://timesofindia.indiatimes.com/technology/tech-news/ltimindtree-win-its-largest-deal-in-history-we-are-now-says-coo/articleshow/114404534.cms&ved=2ahUKEwiPwJ6-7Z2JAxWqS2wGHS9NBDYQxfQBegQIARAC&usg=AOvVaw2S5XFKpYRxCoxcu8b5GUyt\n",
      "---------------------------------\n",
      "Article:\n",
      "LTIMindtree win its largest deal in history: We are now ..., says COO\n",
      "\n",
      "Published: 2 hours ago\n",
      "---------------------------------\n",
      "Summary:\n",
      "The TOI Tech Desk is a dedicated team of journalists committed to delivering the latest and most relevant news. The TOI Tech Desk’s news coverage spans a wide spectrum across gadget launches, gadget reviews, trends, in-depth analysis, exclusive reports and breaking stories.\n",
      "\n",
      "----------------------------------------------------------------------------------------------\n",
      "---------------------------------------------------------------------------------\n",
      "---------------------------------------------------------------------------------\n",
      "---------------------------------------------------------------------------------\n",
      "---------------------------------------------------------------------------------\n",
      "Fetching news from: https://techannouncer.com/generative-ai-takes-center-stage-in-2024-u-s-presidential-debates/&ved=2ahUKEwiPwJ6-7Z2JAxWqS2wGHS9NBDYQxfQBegQICRAC&usg=AOvVaw2x7s9WseLRB-ijgj1HPycY\n",
      "---------------------------------\n",
      "Article:\n",
      "Generative AI Takes Center Stage in 2024 U.S. Presidential Debates\n",
      "\n",
      "Published: 3 hours ago\n",
      "---------------------------------\n",
      "Summary:\n",
      "Techvestor, Owner of the Largest STR Portfolio, Explains Investing in Start-Up Companies – 3 Areas In Which an Investor Can Make a Profit Henrik von Scheel Guest Speaker at Moldova’s first International Blockchain Week.\n",
      "\n",
      "----------------------------------------------------------------------------------------------\n",
      "---------------------------------------------------------------------------------\n",
      "---------------------------------------------------------------------------------\n",
      "---------------------------------------------------------------------------------\n",
      "---------------------------------------------------------------------------------\n",
      "Fetching news from: https://techcrunch.com/2024/10/20/can-ai-sandbag-safety-checks-to-sabotage-users-yes-but-not-very-well-for-now/&ved=2ahUKEwiPwJ6-7Z2JAxWqS2wGHS9NBDYQxfQBegQIBRAC&usg=AOvVaw1GKO6MkTRUlTOhADmOV5fi\n",
      "---------------------------------\n",
      "Article:\n",
      "Can AI sandbag safety checks to sabotage users? Yes, but not very well — for now\n",
      "\n",
      "Published: 4 hours ago\n",
      "---------------------------------\n",
      "Summary:\n",
      "Outcome: It works! The more aggressive the model’s attempts, the bigger effect it had on people using it, but also made them more suspicious. Task 3: “Sandbag” a safety check by pretending to be less dangerous. The model “failed successfully,” operating well below its true capability.\n",
      "\n",
      "----------------------------------------------------------------------------------------------\n",
      "---------------------------------------------------------------------------------\n",
      "---------------------------------------------------------------------------------\n",
      "---------------------------------------------------------------------------------\n",
      "---------------------------------------------------------------------------------\n",
      "Fetching news from: https://techcrunch.com/2024/10/20/gustos-head-of-technology-says-hiring-an-army-of-specialists-is-the-wrong-approach-to-ai/&ved=2ahUKEwiPwJ6-7Z2JAxWqS2wGHS9NBDYQxfQBegQIAxAC&usg=AOvVaw29G_9bZw9hayqgktci5F9D\n",
      "---------------------------------\n",
      "Article:\n",
      "Gusto’s head of technology says hiring an army of specialists is the wrong approach to AI\n",
      "\n",
      "Published: 5 hours ago\n",
      "---------------------------------\n",
      "Summary:\n",
      "Is Gusto the first big AI product that you’ve released to your customers? Edward Kim said that cutting existing teams and hiring specially trained AI engineers is “the wrong way to go” Kim said that the company is seeing that “people who are not software engineers, but a little technically minded” are able to build really powerful and game-changing AI applications.\n",
      "\n",
      "----------------------------------------------------------------------------------------------\n",
      "---------------------------------------------------------------------------------\n",
      "---------------------------------------------------------------------------------\n",
      "---------------------------------------------------------------------------------\n",
      "---------------------------------------------------------------------------------\n",
      "Fetching news from: https://techcrunch.com/2024/10/20/investments-in-generative-ai-startups-topped-3-9b-in-q3-2024/&ved=2ahUKEwiPwJ6-7Z2JAxWqS2wGHS9NBDYQxfQBegQIBBAC&usg=AOvVaw2ovA-BVzMCbVAVE8Xw2Omn\n",
      "---------------------------------\n",
      "Article:\n",
      "Investments in generative AI startups topped $3.9B in Q3 2024\n",
      "\n",
      "Published: 7 hours ago\n",
      "---------------------------------\n",
      "Summary:\n",
      "VCs invested $3.9 billion in generative AI startups across 206 deals, per PitchBook. Some of the biggest winners in Q3 were coding assistant Magic ($320 million in August) And $2.9 billion of that funding went to U.S.-based companies across 127 deals. Experts question the tech’s reliability, and — in the case of generative AI models trained on copyrighted data without permission — its legality.\n",
      "\n",
      "----------------------------------------------------------------------------------------------\n",
      "---------------------------------------------------------------------------------\n",
      "---------------------------------------------------------------------------------\n",
      "---------------------------------------------------------------------------------\n",
      "---------------------------------------------------------------------------------\n"
     ]
    }
   ],
   "source": [
    "# Loop through URLs, fetch and summarize each article\n",
    "for article in news_articles[:5]:\n",
    "    try:\n",
    "        print(f\"Fetching news from: {article['link']}\")\n",
    "        print(\"---------------------------------\")\n",
    "        article_text = get_article_text(article['link'])\n",
    "        print(f\"Article:\\n{article['title']}\\n\")\n",
    "        print(f\"Published: {article['date']}\")\n",
    "        print(\"---------------------------------\")\n",
    "        summary = summarize_article(article_text)\n",
    "        print(f\"Summary:\\n{summary}\\n\")\n",
    "        print(\"----------------------------------------------------------------------------------------------\")\n",
    "    except Exception as e:\n",
    "        print(f\"Error processing {url}: {e}\")\n",
    "    print(\"---------------------------------------------------------------------------------\")\n",
    "    print(\"---------------------------------------------------------------------------------\")\n",
    "    print(\"---------------------------------------------------------------------------------\")\n",
    "    print(\"---------------------------------------------------------------------------------\")"
   ]
  },
  {
   "cell_type": "code",
   "execution_count": 28,
   "id": "1cc6f3d5",
   "metadata": {},
   "outputs": [],
   "source": [
    "model = T5ForConditionalGeneration.from_pretrained(model_name)\n",
    "tokenizer = T5Tokenizer.from_pretrained(model_name)"
   ]
  },
  {
   "cell_type": "code",
   "execution_count": 29,
   "id": "01d17ba4",
   "metadata": {},
   "outputs": [
    {
     "name": "stdout",
     "output_type": "stream",
     "text": [
      "Fetching news from: https://timesofindia.indiatimes.com/technology/tech-news/ltimindtree-win-its-largest-deal-in-history-we-are-now-says-coo/articleshow/114404534.cms&ved=2ahUKEwiPwJ6-7Z2JAxWqS2wGHS9NBDYQxfQBegQIARAC&usg=AOvVaw2S5XFKpYRxCoxcu8b5GUyt\n",
      "---------------------------------\n",
      "Article:\n",
      "LTIMindtree win its largest deal in history: We are now ..., says COO\n",
      "\n",
      "Published: 2 hours ago\n",
      "---------------------------------\n",
      "Summary:\n",
      "23,999 Realme P1 Speed 5G 20,999 Lava O3 6,199 Lava Agni 3 5G 22,999 Samsung Galaxy C55 11,799 Xiaomi Redmi Note 13R Pro 5G 23,690 HMD Skyline 5G 35,999 Tecno Pop 9 5G 9,499 Samsung Galaxy M55s 5G 17,999 Tecno Zero 40 5G 37\n",
      "\n",
      "----------------------------------------------------------------------------------------------\n",
      "---------------------------------------------------------------------------------\n",
      "---------------------------------------------------------------------------------\n",
      "---------------------------------------------------------------------------------\n",
      "---------------------------------------------------------------------------------\n",
      "Fetching news from: https://techannouncer.com/generative-ai-takes-center-stage-in-2024-u-s-presidential-debates/&ved=2ahUKEwiPwJ6-7Z2JAxWqS2wGHS9NBDYQxfQBegQICRAC&usg=AOvVaw2x7s9WseLRB-ijgj1HPycY\n",
      "---------------------------------\n",
      "Article:\n",
      "Generative AI Takes Center Stage in 2024 U.S. Presidential Debates\n",
      "\n",
      "Published: 3 hours ago\n",
      "---------------------------------\n",
      "Summary:\n",
      ": A Step-By-Step Guide How to Fix Wi-Fi Connection Problems: A Step-By-Step Guide Digital Identity Solutions: Ensuring Secure Access in a Connected World Digital Identity Solutions: Ensuring Secure Access in a Connected World The Role of Digital Twins in the Digital Twins in Moldova.\n",
      "\n",
      "----------------------------------------------------------------------------------------------\n",
      "---------------------------------------------------------------------------------\n",
      "---------------------------------------------------------------------------------\n",
      "---------------------------------------------------------------------------------\n",
      "---------------------------------------------------------------------------------\n",
      "Fetching news from: https://techcrunch.com/2024/10/20/can-ai-sandbag-safety-checks-to-sabotage-users-yes-but-not-very-well-for-now/&ved=2ahUKEwiPwJ6-7Z2JAxWqS2wGHS9NBDYQxfQBegQIBRAC&usg=AOvVaw1GKO6MkTRUlTOhADmOV5fi\n",
      "---------------------------------\n",
      "Article:\n",
      "Can AI sandbag safety checks to sabotage users? Yes, but not very well — for now\n",
      "\n",
      "Published: 4 hours ago\n",
      "---------------------------------\n",
      "Summary:\n",
      "the more aggressive the model’s attempts, the bigger effect it had on people using it. Outcome: It works! But only like 1% of the time when the checker is a state-of-the-art model. Task 3: “Sandbag” a safety check by pretending to be less dangerous. Task 4: Deliberately don’t flag bad behavior by a model being monitored.\n",
      "\n",
      "----------------------------------------------------------------------------------------------\n",
      "---------------------------------------------------------------------------------\n",
      "---------------------------------------------------------------------------------\n",
      "---------------------------------------------------------------------------------\n",
      "---------------------------------------------------------------------------------\n",
      "Fetching news from: https://techcrunch.com/2024/10/20/gustos-head-of-technology-says-hiring-an-army-of-specialists-is-the-wrong-approach-to-ai/&ved=2ahUKEwiPwJ6-7Z2JAxWqS2wGHS9NBDYQxfQBegQIAxAC&usg=AOvVaw29G_9bZw9hayqgktci5F9D\n",
      "---------------------------------\n",
      "Article:\n",
      "Gusto’s head of technology says hiring an army of specialists is the wrong approach to AI\n",
      "\n",
      "Published: 5 hours ago\n",
      "---------------------------------\n",
      "Summary:\n",
      ", and it’s a much cleaner way to interface with AI. Gusto co-founder and head of technology Edward Kim said that people who are not software engineers, but a little technically minded, are able to build really powerful and game-changing AI applications. he said that the interface to create ML and AI applications [has become] much more accessible to anyone.\n",
      "\n",
      "----------------------------------------------------------------------------------------------\n",
      "---------------------------------------------------------------------------------\n",
      "---------------------------------------------------------------------------------\n",
      "---------------------------------------------------------------------------------\n",
      "---------------------------------------------------------------------------------\n",
      "Fetching news from: https://techcrunch.com/2024/10/20/investments-in-generative-ai-startups-topped-3-9b-in-q3-2024/&ved=2ahUKEwiPwJ6-7Z2JAxWqS2wGHS9NBDYQxfQBegQIBBAC&usg=AOvVaw2ovA-BVzMCbVAVE8Xw2Omn\n",
      "---------------------------------\n",
      "Article:\n",
      "Investments in generative AI startups topped $3.9B in Q3 2024\n",
      "\n",
      "Published: 7 hours ago\n",
      "---------------------------------\n",
      "Summary:\n",
      "generative AI will drive companies to build gigawatt-scale data centers — data centers that consume 5 to 20 times the amount of power. experts question the tech’s reliability, and — in the case of generative AI models trained on copyrighted data without permission — its legality.\n",
      "\n",
      "----------------------------------------------------------------------------------------------\n",
      "---------------------------------------------------------------------------------\n",
      "---------------------------------------------------------------------------------\n",
      "---------------------------------------------------------------------------------\n",
      "---------------------------------------------------------------------------------\n"
     ]
    }
   ],
   "source": [
    "# Loop through URLs, fetch and summarize each article\n",
    "for article in news_articles[:5]:\n",
    "    try:\n",
    "        print(f\"Fetching news from: {article['link']}\")\n",
    "        print(\"---------------------------------\")\n",
    "        article_text = get_article_text(article['link'])\n",
    "        print(f\"Article:\\n{article['title']}\\n\")\n",
    "        print(f\"Published: {article['date']}\")\n",
    "        print(\"---------------------------------\")\n",
    "        summary = summarize_article(article_text)\n",
    "        print(f\"Summary:\\n{summary}\\n\")\n",
    "        print(\"----------------------------------------------------------------------------------------------\")\n",
    "    except Exception as e:\n",
    "        print(f\"Error processing {url}: {e}\")\n",
    "    print(\"---------------------------------------------------------------------------------\")\n",
    "    print(\"---------------------------------------------------------------------------------\")\n",
    "    print(\"---------------------------------------------------------------------------------\")\n",
    "    print(\"---------------------------------------------------------------------------------\")"
   ]
  },
  {
   "cell_type": "code",
   "execution_count": null,
   "id": "94c18351",
   "metadata": {},
   "outputs": [],
   "source": []
  }
 ],
 "metadata": {
  "kernelspec": {
   "display_name": "llm",
   "language": "python",
   "name": "llm"
  },
  "language_info": {
   "codemirror_mode": {
    "name": "ipython",
    "version": 3
   },
   "file_extension": ".py",
   "mimetype": "text/x-python",
   "name": "python",
   "nbconvert_exporter": "python",
   "pygments_lexer": "ipython3",
   "version": "3.10.11"
  }
 },
 "nbformat": 4,
 "nbformat_minor": 5
}
